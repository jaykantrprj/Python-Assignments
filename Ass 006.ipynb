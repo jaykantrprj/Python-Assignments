{
 "cells": [
  {
   "cell_type": "markdown",
   "id": "78e7f751",
   "metadata": {},
   "source": [
    "1. write a function which will try to find out len of a string without using an inbuilt len function \n",
    "2. write a function which  will be able to print an index of list element without using an index function\n",
    "3. write a function which will be able to print an ip address of your system\n",
    "4. write a function which will shutdown your system\n",
    "5. write a function which will take input as a list with any kind of numeric value and give an out as a multiplication of \n",
    "all the numeric data l = [3.5, 6.56, 4,5,\"sudh\" , \"ineuron\" , 'fsda bootcamp 2.0']\n",
    "6. write a function which will be able to read all the mails \n",
    "7 . write a function which will be able to send a mail to anyone \n",
    "8. write a function which will be able to read a doc/word file from your system "
   ]
  },
  {
   "cell_type": "code",
   "execution_count": 1,
   "id": "3eba8c5d",
   "metadata": {},
   "outputs": [],
   "source": [
    "# 1\n",
    "\n",
    "def str_len(st_var):\n",
    "    count=0\n",
    "    for i in st_var:\n",
    "        count+=1\n",
    "    \n",
    "    print(count)\n",
    "        \n",
    "        "
   ]
  },
  {
   "cell_type": "code",
   "execution_count": 4,
   "id": "0d778a0d",
   "metadata": {},
   "outputs": [
    {
     "name": "stdout",
     "output_type": "stream",
     "text": [
      "7\n"
     ]
    }
   ],
   "source": [
    "str_len(\"asdasda\")"
   ]
  },
  {
   "cell_type": "code",
   "execution_count": 30,
   "id": "6aa52bfe",
   "metadata": {},
   "outputs": [],
   "source": [
    "# 2. \n",
    "\n",
    "def print_index(lst, element):\n",
    "    for i in range(len(lst)):\n",
    "\n",
    "        if element==lst[i]:\n",
    "            print(i)\n",
    "            return i\n",
    "    \n",
    "    "
   ]
  },
  {
   "cell_type": "code",
   "execution_count": 33,
   "id": "088b4010",
   "metadata": {},
   "outputs": [
    {
     "name": "stdout",
     "output_type": "stream",
     "text": [
      "0\n"
     ]
    }
   ],
   "source": [
    "r= print_index(lst=[1,2,3],element=1)"
   ]
  },
  {
   "cell_type": "code",
   "execution_count": 38,
   "id": "4ccc13b3",
   "metadata": {},
   "outputs": [],
   "source": [
    "# 3. \n",
    "\n",
    "def print_ip():\n",
    "   \n",
    "    import socket\n",
    "    hostname = socket.gethostname()\n",
    "    ip_address = socket.gethostbyname(hostname)\n",
    "    print(f\"IP Address: {ip_address}\")"
   ]
  },
  {
   "cell_type": "code",
   "execution_count": 40,
   "id": "92136b3e",
   "metadata": {},
   "outputs": [
    {
     "name": "stdout",
     "output_type": "stream",
     "text": [
      "IP Address: 192.168.0.107\n"
     ]
    }
   ],
   "source": [
    "print_ip()"
   ]
  },
  {
   "cell_type": "code",
   "execution_count": 42,
   "id": "7936bad5",
   "metadata": {},
   "outputs": [],
   "source": [
    "# 4. write a function which will shutdown your system\n",
    "\n",
    "def shutdown_pc():\n",
    "    import os\n",
    "    os.system('shutdown -s')\n",
    "    \n"
   ]
  },
  {
   "cell_type": "code",
   "execution_count": 43,
   "id": "d3e6ddff",
   "metadata": {},
   "outputs": [],
   "source": [
    "shutdown_pc()"
   ]
  },
  {
   "cell_type": "code",
   "execution_count": null,
   "id": "25d1ce1a",
   "metadata": {},
   "outputs": [],
   "source": []
  },
  {
   "cell_type": "code",
   "execution_count": 2,
   "id": "1a0c01ba",
   "metadata": {},
   "outputs": [],
   "source": [
    "# 5. \n",
    "def mul_list(l):\n",
    "    r=1\n",
    "    for item in l:\n",
    "        if type(item)== int or type(item)== float:\n",
    "            r=r*item\n",
    "    print(r)\n",
    "    return r"
   ]
  },
  {
   "cell_type": "code",
   "execution_count": 17,
   "id": "d452c5c2",
   "metadata": {},
   "outputs": [
    {
     "name": "stdout",
     "output_type": "stream",
     "text": [
      "16\n"
     ]
    },
    {
     "data": {
      "text/plain": [
       "16"
      ]
     },
     "execution_count": 17,
     "metadata": {},
     "output_type": "execute_result"
    }
   ],
   "source": [
    "l = [2, 2, 4,1,\"sudh\" , \"ineuron\" , 'fsda bootcamp 2.0']\n",
    "mul_list(l)"
   ]
  },
  {
   "cell_type": "code",
   "execution_count": 19,
   "id": "8a1317dc",
   "metadata": {},
   "outputs": [
    {
     "name": "stdout",
     "output_type": "stream",
     "text": [
      "Collecting docx2txt\n",
      "  Downloading docx2txt-0.8.tar.gz (2.8 kB)\n",
      "Building wheels for collected packages: docx2txt\n",
      "  Building wheel for docx2txt (setup.py): started\n",
      "  Building wheel for docx2txt (setup.py): finished with status 'done'\n",
      "  Created wheel for docx2txt: filename=docx2txt-0.8-py3-none-any.whl size=3984 sha256=1dcb49dac2e2e83aeecd83919532705d44f3fe987956d8932c50a40606c4425c\n",
      "  Stored in directory: c:\\users\\jaykant\\appdata\\local\\pip\\cache\\wheels\\40\\75\\01\\e6c444034338bde9c7947d3467807f889123465c2371e77418\n",
      "Successfully built docx2txt\n",
      "Installing collected packages: docx2txt\n",
      "Successfully installed docx2txt-0.8\n"
     ]
    }
   ],
   "source": [
    "!pip install docx2txt"
   ]
  },
  {
   "cell_type": "code",
   "execution_count": 22,
   "id": "1159e915",
   "metadata": {},
   "outputs": [],
   "source": [
    "# 7 write a function which will be able to read a doc/word file from your system\n",
    "\n",
    "def open_doc(path):\n",
    "    import docx2txt\n",
    "    my_text = docx2txt.process(path)\n",
    "    print(my_text)\n",
    "    \n",
    "    "
   ]
  },
  {
   "cell_type": "code",
   "execution_count": 23,
   "id": "683b2236",
   "metadata": {},
   "outputs": [
    {
     "name": "stdout",
     "output_type": "stream",
     "text": [
      "Hello Worls!!!\n"
     ]
    }
   ],
   "source": [
    "open_doc(r\"C:\\Users\\jaykant\\Documents\\word.docx\")"
   ]
  }
 ],
 "metadata": {
  "kernelspec": {
   "display_name": "Python 3 (ipykernel)",
   "language": "python",
   "name": "python3"
  },
  "language_info": {
   "codemirror_mode": {
    "name": "ipython",
    "version": 3
   },
   "file_extension": ".py",
   "mimetype": "text/x-python",
   "name": "python",
   "nbconvert_exporter": "python",
   "pygments_lexer": "ipython3",
   "version": "3.9.12"
  }
 },
 "nbformat": 4,
 "nbformat_minor": 5
}
